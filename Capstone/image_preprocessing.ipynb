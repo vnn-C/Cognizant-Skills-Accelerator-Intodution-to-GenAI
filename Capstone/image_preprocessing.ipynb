{
 "cells": [
  {
   "cell_type": "code",
   "execution_count": 4,
   "metadata": {},
   "outputs": [],
   "source": [
    "#Script is for preprocessing the downloaded image gallery since it only needs to be done once\n",
    "#OpenCV info: pip install opencv-python\n",
    "import cv2\n",
    "import numpy as np\n",
    "import matplotlib as plt\n",
    "import os"
   ]
  },
  {
   "cell_type": "code",
   "execution_count": 5,
   "metadata": {},
   "outputs": [],
   "source": [
    "dest_folder = \"data/processed_gallery\"\n",
    "source_folder=\"data/Abstract_gallery_2\"\n",
    "size = (128, 128)"
   ]
  },
  {
   "cell_type": "code",
   "execution_count": 6,
   "metadata": {},
   "outputs": [],
   "source": [
    "for file_name in os.listdir(source_folder):\n",
    "    dest_file_list = set(os.listdir(dest_folder))\n",
    "    if file_name in dest_file_list:\n",
    "        continue\n",
    "\n",
    "    try:\n",
    "\n",
    "        f = os.path.join(source_folder, file_name)\n",
    "        #reads image from given file name f\n",
    "        img = cv2.imread(f)\n",
    "        #resizes image\n",
    "        resized = cv2.resize(img, size)\n",
    "        #normalizes image\n",
    "        normalized = resized.astype(np.float32) / 255.0\n",
    "        #saves image to folder for processed images\n",
    "        dest_file = os.path.join(dest_folder, file_name)\n",
    "        cv2.imwrite(dest_file, (normalized * 255))\n",
    "\n",
    "    \n",
    "    except Exception as e:\n",
    "        print(f\"Error during preprocessing of {f}: {e}\")\n",
    "    "
   ]
  }
 ],
 "metadata": {
  "kernelspec": {
   "display_name": "Python 3",
   "language": "python",
   "name": "python3"
  },
  "language_info": {
   "codemirror_mode": {
    "name": "ipython",
    "version": 3
   },
   "file_extension": ".py",
   "mimetype": "text/x-python",
   "name": "python",
   "nbconvert_exporter": "python",
   "pygments_lexer": "ipython3",
   "version": "3.11.2"
  }
 },
 "nbformat": 4,
 "nbformat_minor": 2
}
