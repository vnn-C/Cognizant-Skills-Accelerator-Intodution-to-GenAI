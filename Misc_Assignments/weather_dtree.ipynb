{
 "cells": [
  {
   "cell_type": "code",
   "execution_count": 1,
   "metadata": {},
   "outputs": [],
   "source": [
    "#import libraries\n",
    "from sklearn.model_selection import train_test_split\n",
    "from sklearn.tree import DecisionTreeClassifier\n",
    "from sklearn.metrics import accuracy_score, classification_report, confusion_matrix\n",
    "from sklearn import preprocessing\n",
    "from sklearn.preprocessing import StandardScaler\n",
    "from sklearn.preprocessing import MinMaxScaler\n",
    "from sklearn import tree\n",
    "import pandas as pd"
   ]
  },
  {
   "cell_type": "code",
   "execution_count": 2,
   "metadata": {},
   "outputs": [
    {
     "name": "stdout",
     "output_type": "stream",
     "text": [
      "   tmin  tmax  prcp  snow  snwd  awnd\n",
      "0    47    56  0.31   0.0   0.0  5.37\n",
      "1    20    32  0.60   0.5   0.0  9.62\n",
      "2    24    48  0.00   0.0   1.2  5.14\n",
      "3    50    76  0.01   0.0   0.0  7.38\n",
      "4    40    57  0.02   0.0   0.0  5.82\n"
     ]
    }
   ],
   "source": [
    "#load and preprocess data\n",
    "df = pd.read_csv(\"rdu-weather-history.csv\", sep=\";\")\n",
    "df = df.drop([\"date\"], axis=1)\n",
    "\n",
    "print(df.head())\n",
    "\n",
    "#0 - no rain, 1 - rain\n",
    "\n",
    "#df.fillna(df.mean(), inplace=True)\n",
    "df.dropna(inplace=True)\n",
    "\n",
    "df[\"prcp\"] = (df[\"prcp\"] > 0.1).astype(int)\n",
    "#rain_state = []\n",
    "\"\"\"for p in range(0, len(df[\"prcp\"])):\n",
    "    if df[\"prcp\"][p] <= 0:\n",
    "        rain_state.append(\"no rain\")\n",
    "    elif df[\"prcp\"][p] > 0 and df[\"prcp\"][p] < 0.5:\n",
    "        rain_state.append(\"drizzle\")\n",
    "    else:\n",
    "        rain_state.append(\"rain\")\"\"\"\n",
    "\n",
    "X = df.drop(columns=\"prcp\")\n",
    "#X = df.copy()\n",
    "#y = pd.DataFrame(rain_state)\n",
    "y = df[\"prcp\"]\n",
    "\n",
    "scaler = MinMaxScaler()\n",
    "#scaler = StandardScaler()\n",
    "X_scaled = scaler.fit_transform(X)\n",
    "\n",
    "X_train, X_test, y_train, y_test = train_test_split(X_scaled, y, test_size=0.3, random_state=42)"
   ]
  },
  {
   "cell_type": "code",
   "execution_count": 3,
   "metadata": {},
   "outputs": [
    {
     "name": "stdout",
     "output_type": "stream",
     "text": [
      "Accuracy 0.7837837837837838\n",
      "[[421  49]\n",
      " [ 79  43]]\n",
      "              precision    recall  f1-score   support\n",
      "\n",
      "           0       0.84      0.90      0.87       470\n",
      "           1       0.47      0.35      0.40       122\n",
      "\n",
      "    accuracy                           0.78       592\n",
      "   macro avg       0.65      0.62      0.63       592\n",
      "weighted avg       0.76      0.78      0.77       592\n",
      "\n"
     ]
    }
   ],
   "source": [
    "#run decision tree\n",
    "#min_samples_split=7 since there are 7 days in 1 week\n",
    "d_tree = DecisionTreeClassifier(criterion=\"gini\", max_depth=6, random_state=42, min_samples_split=7)\n",
    "d_tree.fit(X_train, y_train)\n",
    "y_pred = d_tree.predict(X_test)\n",
    "\n",
    "accuracy = accuracy_score(y_test, y_pred)\n",
    "print(\"Accuracy \" + str(accuracy))\n",
    "cm = confusion_matrix(y_test, y_pred)\n",
    "print(cm)\n",
    "report = classification_report(y_test, y_pred)\n",
    "print(report)"
   ]
  }
 ],
 "metadata": {
  "kernelspec": {
   "display_name": "Python 3",
   "language": "python",
   "name": "python3"
  },
  "language_info": {
   "codemirror_mode": {
    "name": "ipython",
    "version": 3
   },
   "file_extension": ".py",
   "mimetype": "text/x-python",
   "name": "python",
   "nbconvert_exporter": "python",
   "pygments_lexer": "ipython3",
   "version": "3.11.2"
  }
 },
 "nbformat": 4,
 "nbformat_minor": 2
}
