{
 "cells": [
  {
   "cell_type": "code",
   "execution_count": 1,
   "metadata": {},
   "outputs": [
    {
     "name": "stdout",
     "output_type": "stream",
     "text": [
      "2.18.0\n"
     ]
    }
   ],
   "source": [
    "#import libraries\n",
    "#Binary text classification of IMDB dataset to classify movies as good or bad\n",
    "import tensorflow as tf\n",
    "print(tf.__version__)\n",
    "from tensorflow.keras.datasets import imdb\n",
    "from tensorflow.keras.utils import to_categorical\n",
    "from tensorflow.keras.models import Sequential\n",
    "from tensorflow.keras.layers import Conv1D, Dense, Flatten, GlobalMaxPooling1D, Embedding, Input, Dropout\n",
    "from tensorflow.keras.preprocessing.sequence import pad_sequences\n",
    "import numpy as np\n",
    "import pandas as pd\n",
    "from tensorflow.keras.regularizers import l2\n",
    "from sklearn.metrics import accuracy_score, precision_score, recall_score, f1_score\n",
    "from sklearn.metrics import roc_curve, auc, roc_auc_score\n",
    "import matplotlib.pyplot as plt\n",
    "from sklearn.model_selection import train_test_split\n",
    "from sklearn.preprocessing import StandardScaler\n",
    "from tensorflow.keras.optimizers import Adam"
   ]
  },
  {
   "cell_type": "code",
   "execution_count": 7,
   "metadata": {},
   "outputs": [
    {
     "name": "stdout",
     "output_type": "stream",
     "text": [
      "int32\n",
      "int64\n"
     ]
    }
   ],
   "source": [
    "#Load and preprocess data\n",
    "#increasing max_features past 5000 does not noticeably improve accuracy for both epochs while loss stays about the same\n",
    "#decreasing max_features below 5000 does not noticeably improve accuracy for both epochs while loss stays about the same\n",
    "max_features=5000\n",
    "max_len = 100\n",
    "word_embedding_dims=50\n",
    "num_filters=250\n",
    "kernel_size=3\n",
    "hidden_dims=250\n",
    "#increasing batch size past 32 does not noticeably imporve accuracy for both epochs, but does increase loss\n",
    "#decreasing batch size below 32 improves accuracy and loss of epoch 1 while accuracy and loss for epoch 2 stays the same\n",
    "batch_size=32\n",
    "epochs=2\n",
    "threshold=0.5\n",
    "\n",
    "#num_words needs to be capped at max_features otherwise an error will occur at the Embedding() function\n",
    "(X_train, y_train), (X_test, y_test) = imdb.load_data(num_words=max_features)\n",
    "#y_train = to_categorical(y_train, 10)\n",
    "#y_test = to_categorical(y_test, 10)\n",
    "\n",
    "\n",
    "#X_train = np.array(X_train, dtype='object')\n",
    "#X_test = np.array(X_test, dtype='object')\n",
    "\n",
    "X_train = pad_sequences(X_train, maxlen=max_len)\n",
    "X_test = pad_sequences(X_test, maxlen=max_len)\n",
    "\n",
    "print(X_train.dtype)\n",
    "print(y_train.dtype)"
   ]
  },
  {
   "cell_type": "code",
   "execution_count": 8,
   "metadata": {},
   "outputs": [],
   "source": [
    "#Define model\n",
    "model = Sequential([\n",
    "    Input(shape=(max_len,)),\n",
    "    Embedding(max_features, word_embedding_dims),\n",
    "    Conv1D(num_filters, kernel_size, padding=\"valid\", activation=\"relu\", strides=1),\n",
    "    #Conv1D(num_filters // 2, kernel_size, padding=\"valid\", activation=\"relu\", strides=1),\n",
    "    GlobalMaxPooling1D(),\n",
    "    #accuracy drops from 0.006 to 0.005\n",
    "    Dense(hidden_dims, activation=\"relu\", kernel_regularizer=l2(0.006)),\n",
    "    Dense(1, activation=\"sigmoid\", kernel_regularizer=l2(0.006))\n",
    "])"
   ]
  },
  {
   "cell_type": "code",
   "execution_count": 9,
   "metadata": {},
   "outputs": [
    {
     "data": {
      "text/html": [
       "<pre style=\"white-space:pre;overflow-x:auto;line-height:normal;font-family:Menlo,'DejaVu Sans Mono',consolas,'Courier New',monospace\"><span style=\"font-weight: bold\">Model: \"sequential_2\"</span>\n",
       "</pre>\n"
      ],
      "text/plain": [
       "\u001b[1mModel: \"sequential_2\"\u001b[0m\n"
      ]
     },
     "metadata": {},
     "output_type": "display_data"
    },
    {
     "data": {
      "text/html": [
       "<pre style=\"white-space:pre;overflow-x:auto;line-height:normal;font-family:Menlo,'DejaVu Sans Mono',consolas,'Courier New',monospace\">┏━━━━━━━━━━━━━━━━━━━━━━━━━━━━━━━━━┳━━━━━━━━━━━━━━━━━━━━━━━━┳━━━━━━━━━━━━━━━┓\n",
       "┃<span style=\"font-weight: bold\"> Layer (type)                    </span>┃<span style=\"font-weight: bold\"> Output Shape           </span>┃<span style=\"font-weight: bold\">       Param # </span>┃\n",
       "┡━━━━━━━━━━━━━━━━━━━━━━━━━━━━━━━━━╇━━━━━━━━━━━━━━━━━━━━━━━━╇━━━━━━━━━━━━━━━┩\n",
       "│ embedding_1 (<span style=\"color: #0087ff; text-decoration-color: #0087ff\">Embedding</span>)         │ (<span style=\"color: #00d7ff; text-decoration-color: #00d7ff\">None</span>, <span style=\"color: #00af00; text-decoration-color: #00af00\">100</span>, <span style=\"color: #00af00; text-decoration-color: #00af00\">50</span>)        │       <span style=\"color: #00af00; text-decoration-color: #00af00\">250,000</span> │\n",
       "├─────────────────────────────────┼────────────────────────┼───────────────┤\n",
       "│ conv1d_3 (<span style=\"color: #0087ff; text-decoration-color: #0087ff\">Conv1D</span>)               │ (<span style=\"color: #00d7ff; text-decoration-color: #00d7ff\">None</span>, <span style=\"color: #00af00; text-decoration-color: #00af00\">98</span>, <span style=\"color: #00af00; text-decoration-color: #00af00\">250</span>)        │        <span style=\"color: #00af00; text-decoration-color: #00af00\">37,750</span> │\n",
       "├─────────────────────────────────┼────────────────────────┼───────────────┤\n",
       "│ global_max_pooling1d_1          │ (<span style=\"color: #00d7ff; text-decoration-color: #00d7ff\">None</span>, <span style=\"color: #00af00; text-decoration-color: #00af00\">250</span>)            │             <span style=\"color: #00af00; text-decoration-color: #00af00\">0</span> │\n",
       "│ (<span style=\"color: #0087ff; text-decoration-color: #0087ff\">GlobalMaxPooling1D</span>)            │                        │               │\n",
       "├─────────────────────────────────┼────────────────────────┼───────────────┤\n",
       "│ dense_4 (<span style=\"color: #0087ff; text-decoration-color: #0087ff\">Dense</span>)                 │ (<span style=\"color: #00d7ff; text-decoration-color: #00d7ff\">None</span>, <span style=\"color: #00af00; text-decoration-color: #00af00\">250</span>)            │        <span style=\"color: #00af00; text-decoration-color: #00af00\">62,750</span> │\n",
       "├─────────────────────────────────┼────────────────────────┼───────────────┤\n",
       "│ dense_5 (<span style=\"color: #0087ff; text-decoration-color: #0087ff\">Dense</span>)                 │ (<span style=\"color: #00d7ff; text-decoration-color: #00d7ff\">None</span>, <span style=\"color: #00af00; text-decoration-color: #00af00\">1</span>)              │           <span style=\"color: #00af00; text-decoration-color: #00af00\">251</span> │\n",
       "└─────────────────────────────────┴────────────────────────┴───────────────┘\n",
       "</pre>\n"
      ],
      "text/plain": [
       "┏━━━━━━━━━━━━━━━━━━━━━━━━━━━━━━━━━┳━━━━━━━━━━━━━━━━━━━━━━━━┳━━━━━━━━━━━━━━━┓\n",
       "┃\u001b[1m \u001b[0m\u001b[1mLayer (type)                   \u001b[0m\u001b[1m \u001b[0m┃\u001b[1m \u001b[0m\u001b[1mOutput Shape          \u001b[0m\u001b[1m \u001b[0m┃\u001b[1m \u001b[0m\u001b[1m      Param #\u001b[0m\u001b[1m \u001b[0m┃\n",
       "┡━━━━━━━━━━━━━━━━━━━━━━━━━━━━━━━━━╇━━━━━━━━━━━━━━━━━━━━━━━━╇━━━━━━━━━━━━━━━┩\n",
       "│ embedding_1 (\u001b[38;5;33mEmbedding\u001b[0m)         │ (\u001b[38;5;45mNone\u001b[0m, \u001b[38;5;34m100\u001b[0m, \u001b[38;5;34m50\u001b[0m)        │       \u001b[38;5;34m250,000\u001b[0m │\n",
       "├─────────────────────────────────┼────────────────────────┼───────────────┤\n",
       "│ conv1d_3 (\u001b[38;5;33mConv1D\u001b[0m)               │ (\u001b[38;5;45mNone\u001b[0m, \u001b[38;5;34m98\u001b[0m, \u001b[38;5;34m250\u001b[0m)        │        \u001b[38;5;34m37,750\u001b[0m │\n",
       "├─────────────────────────────────┼────────────────────────┼───────────────┤\n",
       "│ global_max_pooling1d_1          │ (\u001b[38;5;45mNone\u001b[0m, \u001b[38;5;34m250\u001b[0m)            │             \u001b[38;5;34m0\u001b[0m │\n",
       "│ (\u001b[38;5;33mGlobalMaxPooling1D\u001b[0m)            │                        │               │\n",
       "├─────────────────────────────────┼────────────────────────┼───────────────┤\n",
       "│ dense_4 (\u001b[38;5;33mDense\u001b[0m)                 │ (\u001b[38;5;45mNone\u001b[0m, \u001b[38;5;34m250\u001b[0m)            │        \u001b[38;5;34m62,750\u001b[0m │\n",
       "├─────────────────────────────────┼────────────────────────┼───────────────┤\n",
       "│ dense_5 (\u001b[38;5;33mDense\u001b[0m)                 │ (\u001b[38;5;45mNone\u001b[0m, \u001b[38;5;34m1\u001b[0m)              │           \u001b[38;5;34m251\u001b[0m │\n",
       "└─────────────────────────────────┴────────────────────────┴───────────────┘\n"
      ]
     },
     "metadata": {},
     "output_type": "display_data"
    },
    {
     "data": {
      "text/html": [
       "<pre style=\"white-space:pre;overflow-x:auto;line-height:normal;font-family:Menlo,'DejaVu Sans Mono',consolas,'Courier New',monospace\"><span style=\"font-weight: bold\"> Total params: </span><span style=\"color: #00af00; text-decoration-color: #00af00\">350,751</span> (1.34 MB)\n",
       "</pre>\n"
      ],
      "text/plain": [
       "\u001b[1m Total params: \u001b[0m\u001b[38;5;34m350,751\u001b[0m (1.34 MB)\n"
      ]
     },
     "metadata": {},
     "output_type": "display_data"
    },
    {
     "data": {
      "text/html": [
       "<pre style=\"white-space:pre;overflow-x:auto;line-height:normal;font-family:Menlo,'DejaVu Sans Mono',consolas,'Courier New',monospace\"><span style=\"font-weight: bold\"> Trainable params: </span><span style=\"color: #00af00; text-decoration-color: #00af00\">350,751</span> (1.34 MB)\n",
       "</pre>\n"
      ],
      "text/plain": [
       "\u001b[1m Trainable params: \u001b[0m\u001b[38;5;34m350,751\u001b[0m (1.34 MB)\n"
      ]
     },
     "metadata": {},
     "output_type": "display_data"
    },
    {
     "data": {
      "text/html": [
       "<pre style=\"white-space:pre;overflow-x:auto;line-height:normal;font-family:Menlo,'DejaVu Sans Mono',consolas,'Courier New',monospace\"><span style=\"font-weight: bold\"> Non-trainable params: </span><span style=\"color: #00af00; text-decoration-color: #00af00\">0</span> (0.00 B)\n",
       "</pre>\n"
      ],
      "text/plain": [
       "\u001b[1m Non-trainable params: \u001b[0m\u001b[38;5;34m0\u001b[0m (0.00 B)\n"
      ]
     },
     "metadata": {},
     "output_type": "display_data"
    },
    {
     "name": "stdout",
     "output_type": "stream",
     "text": [
      "Epoch 1/2\n",
      "\u001b[1m782/782\u001b[0m \u001b[32m━━━━━━━━━━━━━━━━━━━━\u001b[0m\u001b[37m\u001b[0m \u001b[1m19s\u001b[0m 22ms/step - accuracy: 0.5362 - loss: 1.6609 - val_accuracy: 0.7160 - val_loss: 0.7808\n",
      "Epoch 2/2\n",
      "\u001b[1m782/782\u001b[0m \u001b[32m━━━━━━━━━━━━━━━━━━━━\u001b[0m\u001b[37m\u001b[0m \u001b[1m17s\u001b[0m 22ms/step - accuracy: 0.7422 - loss: 0.6683 - val_accuracy: 0.7838 - val_loss: 0.5050\n"
     ]
    },
    {
     "data": {
      "text/plain": [
       "<keras.src.callbacks.history.History at 0x1ff01825dd0>"
      ]
     },
     "execution_count": 9,
     "metadata": {},
     "output_type": "execute_result"
    }
   ],
   "source": [
    "#compile model\n",
    "model.compile(optimizer=Adam(learning_rate=0.0001), \n",
    "              loss=\"binary_crossentropy\", \n",
    "              metrics=[\"accuracy\"])\n",
    "\n",
    "\n",
    "model.summary()\n",
    "\n",
    "model.fit(X_train, y_train, epochs=epochs, batch_size=batch_size, validation_data=(X_test, y_test))"
   ]
  },
  {
   "cell_type": "code",
   "execution_count": 10,
   "metadata": {},
   "outputs": [
    {
     "name": "stdout",
     "output_type": "stream",
     "text": [
      "\u001b[1m782/782\u001b[0m \u001b[32m━━━━━━━━━━━━━━━━━━━━\u001b[0m\u001b[37m\u001b[0m \u001b[1m4s\u001b[0m 5ms/step\n",
      "Accuracy: 78.38000000000001\n",
      "Precision: 75.82065652522017\n",
      "Recall: 83.336\n",
      "F1 Score: 79.40089180227905\n",
      "AUC: 0.7837999999999999\n"
     ]
    }
   ],
   "source": [
    "#Train model\n",
    "#model.fit(X_train, y_train, epochs=epochs, batch_size=batch_size, validation_data=(X_test, y_test))\n",
    "#Predictions\n",
    "y_pred_prob = model.predict(X_test)\n",
    "y_pred = (y_pred_prob > threshold).astype(\"int\")\n",
    "accuracy = accuracy_score(y_test, y_pred)\n",
    "precision = precision_score(y_test, y_pred)\n",
    "recall = recall_score(y_test, y_pred)\n",
    "f1 = f1_score(y_test, y_pred)\n",
    "\n",
    "print(\"Accuracy: \" + str(accuracy * 100))\n",
    "print(\"Precision: \" + str(precision * 100))\n",
    "print(\"Recall: \" + str(recall * 100))\n",
    "print(\"F1 Score: \" + str(f1 * 100))\n",
    "#ROC Curve\n",
    "fpr,tpr,thresholds = roc_curve(y_test, y_pred)\n",
    "roc_auc = roc_auc_score(y_test, y_pred)\n",
    "\n",
    "print(\"AUC:\", roc_auc)"
   ]
  },
  {
   "cell_type": "code",
   "execution_count": null,
   "metadata": {},
   "outputs": [
    {
     "name": "stdout",
     "output_type": "stream",
     "text": [
      "                         Transaction ID                           Customer ID  \\\n",
      "0  15d2e414-8735-46fc-9e02-80b472b2580f  d1b87f62-51b2-493b-ad6a-77e0fe13e785   \n",
      "1  0bfee1a0-6d5e-40da-a446-d04e73b1b177  37de64d5-e901-4a56-9ea0-af0c24c069cf   \n",
      "2  e588eef4-b754-468e-9d90-d0e0abfc1af0  1bac88d6-4b22-409a-a06b-425119c57225   \n",
      "3  4de46e52-60c3-49d9-be39-636681009789  2357c76e-9253-4ceb-b44e-ef4b71cb7d4d   \n",
      "4  074a76de-fe2d-443e-a00c-f044cdb68e21  45071bc5-9588-43ea-8093-023caec8ea1c   \n",
      "\n",
      "   Transaction Amount     Transaction Date Payment Method Product Category  \\\n",
      "0               58.09  2024-02-20 05:58:41  bank transfer      electronics   \n",
      "1              389.96  2024-02-25 08:09:45     debit card      electronics   \n",
      "2              134.19  2024-03-18 03:42:55         PayPal    home & garden   \n",
      "3              226.17  2024-03-16 20:41:31  bank transfer         clothing   \n",
      "4              121.53  2024-01-15 05:08:17  bank transfer         clothing   \n",
      "\n",
      "   Quantity  Customer Age Customer Location Device Used       IP Address  \\\n",
      "0         1            17     Amandaborough      tablet   212.195.49.198   \n",
      "1         2            40      East Timothy     desktop  208.106.249.121   \n",
      "2         2            22        Davismouth      tablet     76.63.88.212   \n",
      "3         5            31          Lynnberg     desktop   207.208.171.73   \n",
      "4         2            51      South Nicole      tablet   190.172.14.169   \n",
      "\n",
      "                                    Shipping Address  \\\n",
      "0                   Unit 8934 Box 0058\\nDPO AA 05437   \n",
      "1            634 May Keys\\nPort Cherylview, NV 75063   \n",
      "2    16282 Dana Falls Suite 790\\nRothhaven, IL 15564   \n",
      "3     828 Strong Loaf Apt. 646\\nNew Joshua, UT 84798   \n",
      "4  29799 Jason Hills Apt. 439\\nWest Richardtown, ...   \n",
      "\n",
      "                                     Billing Address  Is Fraudulent  \\\n",
      "0                   Unit 8934 Box 0058\\nDPO AA 05437              0   \n",
      "1            634 May Keys\\nPort Cherylview, NV 75063              0   \n",
      "2    16282 Dana Falls Suite 790\\nRothhaven, IL 15564              0   \n",
      "3     828 Strong Loaf Apt. 646\\nNew Joshua, UT 84798              0   \n",
      "4  29799 Jason Hills Apt. 439\\nWest Richardtown, ...              0   \n",
      "\n",
      "   Account Age Days  Transaction Hour  \n",
      "0                30                 5  \n",
      "1                72                 8  \n",
      "2                63                 3  \n",
      "3               124                20  \n",
      "4               158                 5  \n",
      "<class 'pandas.core.frame.DataFrame'>\n",
      "RangeIndex: 1472952 entries, 0 to 1472951\n",
      "Data columns (total 16 columns):\n",
      " #   Column              Non-Null Count    Dtype  \n",
      "---  ------              --------------    -----  \n",
      " 0   Transaction ID      1472952 non-null  object \n",
      " 1   Customer ID         1472952 non-null  object \n",
      " 2   Transaction Amount  1472952 non-null  float64\n",
      " 3   Transaction Date    1472952 non-null  object \n",
      " 4   Payment Method      1472952 non-null  object \n",
      " 5   Product Category    1472952 non-null  object \n",
      " 6   Quantity            1472952 non-null  int64  \n",
      " 7   Customer Age        1472952 non-null  int64  \n",
      " 8   Customer Location   1472952 non-null  object \n",
      " 9   Device Used         1472952 non-null  object \n",
      " 10  IP Address          1472952 non-null  object \n",
      " 11  Shipping Address    1472952 non-null  object \n",
      " 12  Billing Address     1472952 non-null  object \n",
      " 13  Is Fraudulent       1472952 non-null  int64  \n",
      " 14  Account Age Days    1472952 non-null  int64  \n",
      " 15  Transaction Hour    1472952 non-null  int64  \n",
      "dtypes: float64(1), int64(5), object(10)\n",
      "memory usage: 179.8+ MB\n",
      "                         Transaction ID                           Customer ID  \\\n",
      "0  0a5ba20d-69d5-4ff7-bb88-50f6d402dabe  5e031e9e-87de-4db8-96ca-2c5becb44559   \n",
      "1  0445dad3-bc7b-4d94-b3d0-299a9095ed23  4d6d4ed6-c288-4ee7-9f1d-2d39fb6b1040   \n",
      "2  cb180914-6aeb-4d48-b65f-07f208ceddad  44e09e24-74b9-4041-9894-8734ad525faa   \n",
      "3  3fda2da7-5cfd-4084-b727-6430229978a7  8ec06043-f502-443f-9399-7cd6f6e133b2   \n",
      "4  5ad75336-170f-4a8f-b337-9ee872dc08c6  7e61dfe7-b1f8-42c4-87b2-1cb337e8e079   \n",
      "\n",
      "   Transaction Amount     Transaction Date Payment Method Product Category  \\\n",
      "0               31.08  2024-01-17 13:18:27         PayPal         clothing   \n",
      "1              839.30  2024-03-19 17:10:23  bank transfer  health & beauty   \n",
      "2              379.00  2024-01-10 20:08:38     debit card    home & garden   \n",
      "3               46.26  2024-01-06 10:28:06    credit card         clothing   \n",
      "4             2038.00  2024-01-30 17:40:15    credit card  health & beauty   \n",
      "\n",
      "   Quantity  Customer Age Customer Location Device Used       IP Address  \\\n",
      "0         2            32    Lake Jimmyfurt      tablet     78.50.82.205   \n",
      "1         2            36  South Austinbury      mobile     65.77.31.204   \n",
      "2         4            37   Christopherland     desktop  211.189.218.190   \n",
      "3         2            30  North Rhondaside      tablet  213.226.163.230   \n",
      "4         1            32    Stricklandview      mobile    54.172.17.233   \n",
      "\n",
      "                                    Shipping Address  \\\n",
      "0       68408 Vanessa Passage\\nSydneyhaven, IN 94142   \n",
      "1   5762 Joseph Corners\\nSouth Michealside, NY 98468   \n",
      "2      471 Mary Courts Apt. 872\\nMaryhaven, KS 16126   \n",
      "3  325 Daniel Mall Suite 344\\nNew Alexanderport, ...   \n",
      "4                          USS Ramirez\\nFPO AE 75810   \n",
      "\n",
      "                                     Billing Address  Is Fraudulent  \\\n",
      "0       68408 Vanessa Passage\\nSydneyhaven, IN 94142              1   \n",
      "1   5762 Joseph Corners\\nSouth Michealside, NY 98468              1   \n",
      "2      471 Mary Courts Apt. 872\\nMaryhaven, KS 16126              1   \n",
      "3  325 Daniel Mall Suite 344\\nNew Alexanderport, ...              1   \n",
      "4  42574 Katherine Ferry Apt. 656\\nSouth Jamiepor...              1   \n",
      "\n",
      "   Account Age Days  Transaction Hour  \n",
      "0               147                13  \n",
      "1                65                 1  \n",
      "2                30                20  \n",
      "3                12                10  \n",
      "4                 9                17  \n"
     ]
    }
   ],
   "source": [
    "#Creative Task: Binary classification for fradulent e-commerce transactions\n",
    "#Dataset used (too large for Github): https://www.kaggle.com/datasets/shriyashjagtap/fraudulent-e-commerce-transactions?resource=download\n",
    "transactions = pd.read_csv(\"Fraudulent_E-Commerce_Transaction_Data.csv\")\n",
    "\n",
    "print(transactions.head())\n",
    "transactions.isnull().sum()\n",
    "transactions.shape\n",
    "transactions.info()\n",
    "transactions[\"Is Fraudulent\"].value_counts()\n",
    "#less fradulent transactions than valid ones\n",
    "is_fraud = transactions[transactions[\"Is Fraudulent\"] == 1]\n",
    "not_fraud = transactions[transactions[\"Is Fraudulent\"] == 0]\n",
    "not_fraud = not_fraud[:len(is_fraud)]\n",
    "data = pd.concat([is_fraud, not_fraud], ignore_index=True)\n",
    "print(data.head())\n",
    "tX = data.drop(\"Is Fraudulent\", axis=1).select_dtypes(include=['number'])\n",
    "ty = data[\"Is Fraudulent\"]\n",
    "\n",
    "tX_train, tX_test, ty_train, ty_test = train_test_split(tX, ty, test_size=0.3, random_state=42, stratify=ty)\n",
    "\n",
    "scaler = StandardScaler()"
   ]
  },
  {
   "cell_type": "code",
   "execution_count": 13,
   "metadata": {},
   "outputs": [
    {
     "name": "stderr",
     "output_type": "stream",
     "text": [
      "c:\\Python311\\Lib\\site-packages\\keras\\src\\layers\\convolutional\\base_conv.py:107: UserWarning: Do not pass an `input_shape`/`input_dim` argument to a layer. When using Sequential models, prefer using an `Input(shape)` object as the first layer in the model instead.\n",
      "  super().__init__(activity_regularizer=activity_regularizer, **kwargs)\n"
     ]
    },
    {
     "data": {
      "text/html": [
       "<pre style=\"white-space:pre;overflow-x:auto;line-height:normal;font-family:Menlo,'DejaVu Sans Mono',consolas,'Courier New',monospace\"><span style=\"font-weight: bold\">Model: \"sequential_3\"</span>\n",
       "</pre>\n"
      ],
      "text/plain": [
       "\u001b[1mModel: \"sequential_3\"\u001b[0m\n"
      ]
     },
     "metadata": {},
     "output_type": "display_data"
    },
    {
     "data": {
      "text/html": [
       "<pre style=\"white-space:pre;overflow-x:auto;line-height:normal;font-family:Menlo,'DejaVu Sans Mono',consolas,'Courier New',monospace\">┏━━━━━━━━━━━━━━━━━━━━━━━━━━━━━━━━━┳━━━━━━━━━━━━━━━━━━━━━━━━┳━━━━━━━━━━━━━━━┓\n",
       "┃<span style=\"font-weight: bold\"> Layer (type)                    </span>┃<span style=\"font-weight: bold\"> Output Shape           </span>┃<span style=\"font-weight: bold\">       Param # </span>┃\n",
       "┡━━━━━━━━━━━━━━━━━━━━━━━━━━━━━━━━━╇━━━━━━━━━━━━━━━━━━━━━━━━╇━━━━━━━━━━━━━━━┩\n",
       "│ conv1d_4 (<span style=\"color: #0087ff; text-decoration-color: #0087ff\">Conv1D</span>)               │ (<span style=\"color: #00d7ff; text-decoration-color: #00d7ff\">None</span>, <span style=\"color: #00af00; text-decoration-color: #00af00\">4</span>, <span style=\"color: #00af00; text-decoration-color: #00af00\">32</span>)          │            <span style=\"color: #00af00; text-decoration-color: #00af00\">96</span> │\n",
       "├─────────────────────────────────┼────────────────────────┼───────────────┤\n",
       "│ dropout_3 (<span style=\"color: #0087ff; text-decoration-color: #0087ff\">Dropout</span>)             │ (<span style=\"color: #00d7ff; text-decoration-color: #00d7ff\">None</span>, <span style=\"color: #00af00; text-decoration-color: #00af00\">4</span>, <span style=\"color: #00af00; text-decoration-color: #00af00\">32</span>)          │             <span style=\"color: #00af00; text-decoration-color: #00af00\">0</span> │\n",
       "├─────────────────────────────────┼────────────────────────┼───────────────┤\n",
       "│ conv1d_5 (<span style=\"color: #0087ff; text-decoration-color: #0087ff\">Conv1D</span>)               │ (<span style=\"color: #00d7ff; text-decoration-color: #00d7ff\">None</span>, <span style=\"color: #00af00; text-decoration-color: #00af00\">3</span>, <span style=\"color: #00af00; text-decoration-color: #00af00\">64</span>)          │         <span style=\"color: #00af00; text-decoration-color: #00af00\">4,160</span> │\n",
       "├─────────────────────────────────┼────────────────────────┼───────────────┤\n",
       "│ dropout_4 (<span style=\"color: #0087ff; text-decoration-color: #0087ff\">Dropout</span>)             │ (<span style=\"color: #00d7ff; text-decoration-color: #00d7ff\">None</span>, <span style=\"color: #00af00; text-decoration-color: #00af00\">3</span>, <span style=\"color: #00af00; text-decoration-color: #00af00\">64</span>)          │             <span style=\"color: #00af00; text-decoration-color: #00af00\">0</span> │\n",
       "├─────────────────────────────────┼────────────────────────┼───────────────┤\n",
       "│ flatten_1 (<span style=\"color: #0087ff; text-decoration-color: #0087ff\">Flatten</span>)             │ (<span style=\"color: #00d7ff; text-decoration-color: #00d7ff\">None</span>, <span style=\"color: #00af00; text-decoration-color: #00af00\">192</span>)            │             <span style=\"color: #00af00; text-decoration-color: #00af00\">0</span> │\n",
       "├─────────────────────────────────┼────────────────────────┼───────────────┤\n",
       "│ dense_6 (<span style=\"color: #0087ff; text-decoration-color: #0087ff\">Dense</span>)                 │ (<span style=\"color: #00d7ff; text-decoration-color: #00d7ff\">None</span>, <span style=\"color: #00af00; text-decoration-color: #00af00\">64</span>)             │        <span style=\"color: #00af00; text-decoration-color: #00af00\">12,352</span> │\n",
       "├─────────────────────────────────┼────────────────────────┼───────────────┤\n",
       "│ dropout_5 (<span style=\"color: #0087ff; text-decoration-color: #0087ff\">Dropout</span>)             │ (<span style=\"color: #00d7ff; text-decoration-color: #00d7ff\">None</span>, <span style=\"color: #00af00; text-decoration-color: #00af00\">64</span>)             │             <span style=\"color: #00af00; text-decoration-color: #00af00\">0</span> │\n",
       "├─────────────────────────────────┼────────────────────────┼───────────────┤\n",
       "│ dense_7 (<span style=\"color: #0087ff; text-decoration-color: #0087ff\">Dense</span>)                 │ (<span style=\"color: #00d7ff; text-decoration-color: #00d7ff\">None</span>, <span style=\"color: #00af00; text-decoration-color: #00af00\">1</span>)              │            <span style=\"color: #00af00; text-decoration-color: #00af00\">65</span> │\n",
       "└─────────────────────────────────┴────────────────────────┴───────────────┘\n",
       "</pre>\n"
      ],
      "text/plain": [
       "┏━━━━━━━━━━━━━━━━━━━━━━━━━━━━━━━━━┳━━━━━━━━━━━━━━━━━━━━━━━━┳━━━━━━━━━━━━━━━┓\n",
       "┃\u001b[1m \u001b[0m\u001b[1mLayer (type)                   \u001b[0m\u001b[1m \u001b[0m┃\u001b[1m \u001b[0m\u001b[1mOutput Shape          \u001b[0m\u001b[1m \u001b[0m┃\u001b[1m \u001b[0m\u001b[1m      Param #\u001b[0m\u001b[1m \u001b[0m┃\n",
       "┡━━━━━━━━━━━━━━━━━━━━━━━━━━━━━━━━━╇━━━━━━━━━━━━━━━━━━━━━━━━╇━━━━━━━━━━━━━━━┩\n",
       "│ conv1d_4 (\u001b[38;5;33mConv1D\u001b[0m)               │ (\u001b[38;5;45mNone\u001b[0m, \u001b[38;5;34m4\u001b[0m, \u001b[38;5;34m32\u001b[0m)          │            \u001b[38;5;34m96\u001b[0m │\n",
       "├─────────────────────────────────┼────────────────────────┼───────────────┤\n",
       "│ dropout_3 (\u001b[38;5;33mDropout\u001b[0m)             │ (\u001b[38;5;45mNone\u001b[0m, \u001b[38;5;34m4\u001b[0m, \u001b[38;5;34m32\u001b[0m)          │             \u001b[38;5;34m0\u001b[0m │\n",
       "├─────────────────────────────────┼────────────────────────┼───────────────┤\n",
       "│ conv1d_5 (\u001b[38;5;33mConv1D\u001b[0m)               │ (\u001b[38;5;45mNone\u001b[0m, \u001b[38;5;34m3\u001b[0m, \u001b[38;5;34m64\u001b[0m)          │         \u001b[38;5;34m4,160\u001b[0m │\n",
       "├─────────────────────────────────┼────────────────────────┼───────────────┤\n",
       "│ dropout_4 (\u001b[38;5;33mDropout\u001b[0m)             │ (\u001b[38;5;45mNone\u001b[0m, \u001b[38;5;34m3\u001b[0m, \u001b[38;5;34m64\u001b[0m)          │             \u001b[38;5;34m0\u001b[0m │\n",
       "├─────────────────────────────────┼────────────────────────┼───────────────┤\n",
       "│ flatten_1 (\u001b[38;5;33mFlatten\u001b[0m)             │ (\u001b[38;5;45mNone\u001b[0m, \u001b[38;5;34m192\u001b[0m)            │             \u001b[38;5;34m0\u001b[0m │\n",
       "├─────────────────────────────────┼────────────────────────┼───────────────┤\n",
       "│ dense_6 (\u001b[38;5;33mDense\u001b[0m)                 │ (\u001b[38;5;45mNone\u001b[0m, \u001b[38;5;34m64\u001b[0m)             │        \u001b[38;5;34m12,352\u001b[0m │\n",
       "├─────────────────────────────────┼────────────────────────┼───────────────┤\n",
       "│ dropout_5 (\u001b[38;5;33mDropout\u001b[0m)             │ (\u001b[38;5;45mNone\u001b[0m, \u001b[38;5;34m64\u001b[0m)             │             \u001b[38;5;34m0\u001b[0m │\n",
       "├─────────────────────────────────┼────────────────────────┼───────────────┤\n",
       "│ dense_7 (\u001b[38;5;33mDense\u001b[0m)                 │ (\u001b[38;5;45mNone\u001b[0m, \u001b[38;5;34m1\u001b[0m)              │            \u001b[38;5;34m65\u001b[0m │\n",
       "└─────────────────────────────────┴────────────────────────┴───────────────┘\n"
      ]
     },
     "metadata": {},
     "output_type": "display_data"
    },
    {
     "data": {
      "text/html": [
       "<pre style=\"white-space:pre;overflow-x:auto;line-height:normal;font-family:Menlo,'DejaVu Sans Mono',consolas,'Courier New',monospace\"><span style=\"font-weight: bold\"> Total params: </span><span style=\"color: #00af00; text-decoration-color: #00af00\">16,673</span> (65.13 KB)\n",
       "</pre>\n"
      ],
      "text/plain": [
       "\u001b[1m Total params: \u001b[0m\u001b[38;5;34m16,673\u001b[0m (65.13 KB)\n"
      ]
     },
     "metadata": {},
     "output_type": "display_data"
    },
    {
     "data": {
      "text/html": [
       "<pre style=\"white-space:pre;overflow-x:auto;line-height:normal;font-family:Menlo,'DejaVu Sans Mono',consolas,'Courier New',monospace\"><span style=\"font-weight: bold\"> Trainable params: </span><span style=\"color: #00af00; text-decoration-color: #00af00\">16,673</span> (65.13 KB)\n",
       "</pre>\n"
      ],
      "text/plain": [
       "\u001b[1m Trainable params: \u001b[0m\u001b[38;5;34m16,673\u001b[0m (65.13 KB)\n"
      ]
     },
     "metadata": {},
     "output_type": "display_data"
    },
    {
     "data": {
      "text/html": [
       "<pre style=\"white-space:pre;overflow-x:auto;line-height:normal;font-family:Menlo,'DejaVu Sans Mono',consolas,'Courier New',monospace\"><span style=\"font-weight: bold\"> Non-trainable params: </span><span style=\"color: #00af00; text-decoration-color: #00af00\">0</span> (0.00 B)\n",
       "</pre>\n"
      ],
      "text/plain": [
       "\u001b[1m Non-trainable params: \u001b[0m\u001b[38;5;34m0\u001b[0m (0.00 B)\n"
      ]
     },
     "metadata": {},
     "output_type": "display_data"
    }
   ],
   "source": [
    "#Define model\n",
    "tX_train = scaler.fit_transform(tX_train)\n",
    "tX_test = scaler.transform(tX_test)\n",
    "\n",
    "ty_train = np.array(ty_train)\n",
    "ty_test = np.array(ty_test)\n",
    "tX_train = tX_train.reshape(-1, tX_train.shape[1], 1)\n",
    "tX_test = tX_test.reshape(-1, tX_test.shape[1], 1)\n",
    "\n",
    "tModel = Sequential([\n",
    "    Conv1D(32, 2, activation=\"relu\", input_shape=(tX_train.shape[1], 1)),\n",
    "    Dropout(0.2),\n",
    "    Conv1D(64, 2, activation=\"relu\"),\n",
    "    Dropout(0.5),\n",
    "    Flatten(),\n",
    "    Dense(64, activation=\"relu\"),\n",
    "    Dropout(0.5),\n",
    "    Dense(1, activation=\"sigmoid\")\n",
    "])\n",
    "\n",
    "tModel.compile(optimizer=\"adam\",\n",
    "              loss=\"binary_crossentropy\",\n",
    "              metrics=[\"accuracy\"])\n",
    "\n",
    "tModel.summary()"
   ]
  },
  {
   "cell_type": "code",
   "execution_count": 14,
   "metadata": {},
   "outputs": [
    {
     "name": "stdout",
     "output_type": "stream",
     "text": [
      "Epoch 1/2\n",
      "\u001b[1m3231/3231\u001b[0m \u001b[32m━━━━━━━━━━━━━━━━━━━━\u001b[0m\u001b[37m\u001b[0m \u001b[1m17s\u001b[0m 5ms/step - accuracy: 0.6878 - loss: 0.5827 - val_accuracy: 0.7329 - val_loss: 0.5284\n",
      "Epoch 2/2\n",
      "\u001b[1m3231/3231\u001b[0m \u001b[32m━━━━━━━━━━━━━━━━━━━━\u001b[0m\u001b[37m\u001b[0m \u001b[1m14s\u001b[0m 4ms/step - accuracy: 0.7287 - loss: 0.5394 - val_accuracy: 0.7344 - val_loss: 0.5260\n"
     ]
    },
    {
     "data": {
      "text/plain": [
       "<keras.src.callbacks.history.History at 0x1ff045286d0>"
      ]
     },
     "execution_count": 14,
     "metadata": {},
     "output_type": "execute_result"
    }
   ],
   "source": [
    "#Train data\n",
    "tModel.fit(tX_train, ty_train, epochs=epochs, batch_size=32, validation_data=(tX_test, ty_test))"
   ]
  },
  {
   "cell_type": "code",
   "execution_count": 15,
   "metadata": {},
   "outputs": [
    {
     "name": "stdout",
     "output_type": "stream",
     "text": [
      "\u001b[1m1385/1385\u001b[0m \u001b[32m━━━━━━━━━━━━━━━━━━━━\u001b[0m\u001b[37m\u001b[0m \u001b[1m3s\u001b[0m 2ms/step\n",
      "Accuracy: 73.43972191499446\n",
      "Precision: 72.17097958835083\n",
      "Recall: 76.29903841813011\n",
      "F1 Score: 74.17762075094912\n",
      "AUC:73.43978645355764\n"
     ]
    }
   ],
   "source": [
    "#Evaluations\n",
    "ty_pred_prob = tModel.predict(tX_test)\n",
    "ty_pred = (ty_pred_prob > threshold).astype(\"int\")\n",
    "accuracy = accuracy_score(ty_test, ty_pred)\n",
    "precision = precision_score(ty_test, ty_pred)\n",
    "recall = recall_score(ty_test, ty_pred)\n",
    "f1 = f1_score(ty_test, ty_pred)\n",
    "\n",
    "print(\"Accuracy: \" + str(accuracy * 100))\n",
    "print(\"Precision: \" + str(precision * 100))\n",
    "print(\"Recall: \" + str(recall * 100))\n",
    "print(\"F1 Score: \" + str(f1 * 100))\n",
    "\n",
    "fpr,tpr,thresholds = roc_curve(ty_test, ty_pred)\n",
    "roc_auc = roc_auc_score(ty_test, ty_pred)\n",
    "\n",
    "print(\"AUC:\" + str(roc_auc * 100))"
   ]
  }
 ],
 "metadata": {
  "kernelspec": {
   "display_name": "Python 3",
   "language": "python",
   "name": "python3"
  },
  "language_info": {
   "codemirror_mode": {
    "name": "ipython",
    "version": 3
   },
   "file_extension": ".py",
   "mimetype": "text/x-python",
   "name": "python",
   "nbconvert_exporter": "python",
   "pygments_lexer": "ipython3",
   "version": "3.11.2"
  }
 },
 "nbformat": 4,
 "nbformat_minor": 2
}
