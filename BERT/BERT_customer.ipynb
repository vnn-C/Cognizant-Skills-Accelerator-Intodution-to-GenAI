{
 "cells": [
  {
   "cell_type": "code",
   "execution_count": 54,
   "metadata": {},
   "outputs": [],
   "source": [
    "#classifying customer reviews\n",
    "from transformers import DistilBertModel,  DistilBertConfig, DistilBertTokenizer, DistilBertForSequenceClassification\n",
    "from transformers import Trainer, TrainingArguments\n",
    "from datasets import load_dataset\n",
    "import numpy as np\n",
    "import pandas as pd\n",
    "import torch\n",
    "import os\n",
    "from datetime import datetime\n",
    "from datasets import Dataset\n",
    "from sklearn.metrics import accuracy_score, precision_score, recall_score, f1_score, confusion_matrix\n",
    "from transformers import BertConfig\n",
    "from sklearn.utils.class_weight import compute_class_weight\n",
    "from transformers import EarlyStoppingCallback, IntervalStrategy\n"
   ]
  },
  {
   "cell_type": "code",
   "execution_count": 55,
   "metadata": {},
   "outputs": [],
   "source": [
    "#variables\n",
    "seed_val = 1\n",
    "train_subset = 100\n",
    "test_subset = 50\n",
    "num_epochs = 4\n",
    "batch_size = 32\n",
    "lr = 0.0001\n",
    "dp = 0.2\n",
    "wd = 0.01\n",
    "device = torch.device(\"cuda\" if torch.cuda.is_available() else \"cpu\")\n",
    "class_list = np.array([0, 1])\n",
    "sv_limit = 2\n",
    "test_size = 0.3\n",
    "esp = 3\n",
    "evs = 2"
   ]
  },
  {
   "cell_type": "code",
   "execution_count": 56,
   "metadata": {},
   "outputs": [
    {
     "name": "stdout",
     "output_type": "stream",
     "text": [
      "98\n",
      "Index(['\"Text', 'Sentiment', 'Source', 'Date/Time', 'User ID', 'Location',\n",
      "       'Confidence Score\"'],\n",
      "      dtype='object')\n",
      "Index(['Text', 'Sentiment', 'Source', 'Date/Time', 'User ID', 'Location',\n",
      "       'Confidence Score'],\n",
      "      dtype='object')\n",
      "96\n",
      "['Positive' 'Negative']\n",
      "0\n",
      "[1 0]\n"
     ]
    }
   ],
   "source": [
    "#load data\n",
    "dataset = pd.read_csv(\"bert_customer/sentiment-analysis.csv\", sep=r'\\s*,\\s*', engine='python')\n",
    "\n",
    "#print(dataset.head)\n",
    "print(len(dataset))\n",
    "print(dataset.columns)\n",
    "dataset.columns = dataset.columns.str.replace('\"', '')\n",
    "dataset.columns = dataset.columns.str.replace(\"'\", '')\n",
    "dataset.columns = dataset.columns.str.strip()\n",
    "print(dataset.columns)\n",
    "\n",
    "\n",
    "cleaned_data = dataset.dropna(subset=['Sentiment']).copy()\n",
    "\n",
    "print(len(cleaned_data))\n",
    "print(cleaned_data[\"Sentiment\"].unique())\n",
    "\n",
    "cleaned_data.loc[:, \"Sentiment\"] = cleaned_data[\"Sentiment\"].map({\"Positive\": 1, \"Negative\": 0})\n",
    "cleaned_data[\"Sentiment\"] = cleaned_data[\"Sentiment\"].astype(int)\n",
    "\n",
    "data_sentiment = cleaned_data[\"Sentiment\"]\n",
    "\n",
    "print(cleaned_data[\"Sentiment\"].isnull().sum())\n",
    "print(cleaned_data[\"Sentiment\"].unique())"
   ]
  },
  {
   "cell_type": "code",
   "execution_count": 57,
   "metadata": {},
   "outputs": [
    {
     "name": "stderr",
     "output_type": "stream",
     "text": [
      "Map: 100%|██████████| 67/67 [00:00<00:00, 729.96 examples/s]\n",
      "Map: 100%|██████████| 29/29 [00:00<00:00, 697.80 examples/s]"
     ]
    },
    {
     "name": "stdout",
     "output_type": "stream",
     "text": [
      "[1 0]\n"
     ]
    },
    {
     "name": "stderr",
     "output_type": "stream",
     "text": [
      "\n"
     ]
    }
   ],
   "source": [
    "#Tokenize data\n",
    "tokenizer = DistilBertTokenizer.from_pretrained(\"distilbert-base-uncased\")\n",
    "\n",
    "\n",
    "def tokenize_func(data):\n",
    "    return tokenizer(data, padding=\"max_length\", truncation=True, max_length=128)\n",
    "\n",
    "tokenized_data = cleaned_data[\"Text\"].apply(tokenize_func)\n",
    "\n",
    "dataset_hf = Dataset.from_pandas(cleaned_data)\n",
    "\n",
    "\n",
    "dataset_hf = dataset_hf.add_column(\"input_ids\", [x[\"input_ids\"] for x in tokenized_data])\n",
    "dataset_hf = dataset_hf.add_column(\"attention_mask\", [x[\"attention_mask\"] for x in tokenized_data])\n",
    "\n",
    "\n",
    "\n",
    "dataset_hf = dataset_hf.add_column(\"labels\", cleaned_data[\"Sentiment\"].values.astype(int))\n",
    "\n",
    "dataset_hf.set_format(\"torch\", columns=[\"input_ids\", \"attention_mask\", \"labels\"])\n",
    "dataset_hf = dataset_hf.train_test_split(test_size)\n",
    "dataset_hf = dataset_hf.map(lambda x: {\"labels\": int(x[\"labels\"])})\n",
    "\n",
    "#print(dataset_hf[\"train\"][0])\n",
    "print(cleaned_data[\"Sentiment\"].unique())\n",
    "\n"
   ]
  },
  {
   "cell_type": "code",
   "execution_count": null,
   "metadata": {},
   "outputs": [
    {
     "name": "stderr",
     "output_type": "stream",
     "text": [
      "Some weights of DistilBertForSequenceClassification were not initialized from the model checkpoint at distilbert-base-uncased and are newly initialized: ['classifier.bias', 'classifier.weight', 'pre_classifier.bias', 'pre_classifier.weight']\n",
      "You should probably TRAIN this model on a down-stream task to be able to use it for predictions and inference.\n"
     ]
    },
    {
     "name": "stdout",
     "output_type": "stream",
     "text": [
      "DistilBertForSequenceClassification(\n",
      "  (distilbert): DistilBertModel(\n",
      "    (embeddings): Embeddings(\n",
      "      (word_embeddings): Embedding(30522, 768, padding_idx=0)\n",
      "      (position_embeddings): Embedding(512, 768)\n",
      "      (LayerNorm): LayerNorm((768,), eps=1e-12, elementwise_affine=True)\n",
      "      (dropout): Dropout(p=0.1, inplace=False)\n",
      "    )\n",
      "    (transformer): Transformer(\n",
      "      (layer): ModuleList(\n",
      "        (0-5): 6 x TransformerBlock(\n",
      "          (attention): DistilBertSdpaAttention(\n",
      "            (dropout): Dropout(p=0.1, inplace=False)\n",
      "            (q_lin): Linear(in_features=768, out_features=768, bias=True)\n",
      "            (k_lin): Linear(in_features=768, out_features=768, bias=True)\n",
      "            (v_lin): Linear(in_features=768, out_features=768, bias=True)\n",
      "            (out_lin): Linear(in_features=768, out_features=768, bias=True)\n",
      "          )\n",
      "          (sa_layer_norm): LayerNorm((768,), eps=1e-12, elementwise_affine=True)\n",
      "          (ffn): FFN(\n",
      "            (dropout): Dropout(p=0.1, inplace=False)\n",
      "            (lin1): Linear(in_features=768, out_features=3072, bias=True)\n",
      "            (lin2): Linear(in_features=3072, out_features=768, bias=True)\n",
      "            (activation): GELUActivation()\n",
      "          )\n",
      "          (output_layer_norm): LayerNorm((768,), eps=1e-12, elementwise_affine=True)\n",
      "        )\n",
      "      )\n",
      "    )\n",
      "  )\n",
      "  (pre_classifier): Linear(in_features=768, out_features=768, bias=True)\n",
      "  (classifier): Linear(in_features=768, out_features=2, bias=True)\n",
      "  (dropout): Dropout(p=0.2, inplace=False)\n",
      ")\n",
      "Dataset({\n",
      "    features: ['Text', 'Sentiment', 'Source', 'Date/Time', 'User ID', 'Location', 'Confidence Score', '__index_level_0__', 'input_ids', 'attention_mask', 'labels'],\n",
      "    num_rows: 29\n",
      "})\n"
     ]
    }
   ],
   "source": [
    "#build model\n",
    "trained_dataset = dataset_hf[\"train\"].shuffle(seed=seed_val).select(range(len(dataset_hf[\"train\"]))) \n",
    "test_dataset = dataset_hf[\"test\"].shuffle(seed=seed_val).select(range(len(dataset_hf[\"test\"])))\n",
    "\n",
    "bert_config=DistilBertConfig.from_pretrained(\"distilbert-base-uncased\", hidden_dropout_prob=dp, num_labels=2)\n",
    "#attention mechanism is SDPA by default\n",
    "model = DistilBertForSequenceClassification.from_pretrained(\"distilbert-base-uncased\", config=bert_config)\n",
    "\n",
    "print(model)\n"
   ]
  },
  {
   "cell_type": "code",
   "execution_count": 59,
   "metadata": {},
   "outputs": [
    {
     "data": {
      "text/html": [
       "\n",
       "    <div>\n",
       "      \n",
       "      <progress value='12' max='12' style='width:300px; height:20px; vertical-align: middle;'></progress>\n",
       "      [12/12 00:08, Epoch 4/4]\n",
       "    </div>\n",
       "    <table border=\"1\" class=\"dataframe\">\n",
       "  <thead>\n",
       " <tr style=\"text-align: left;\">\n",
       "      <th>Step</th>\n",
       "      <th>Training Loss</th>\n",
       "      <th>Validation Loss</th>\n",
       "      <th>Accuracy</th>\n",
       "      <th>Precision</th>\n",
       "      <th>Recall</th>\n",
       "      <th>F1</th>\n",
       "    </tr>\n",
       "  </thead>\n",
       "  <tbody>\n",
       "    <tr>\n",
       "      <td>2</td>\n",
       "      <td>0.692800</td>\n",
       "      <td>0.660869</td>\n",
       "      <td>0.551724</td>\n",
       "      <td>0.551724</td>\n",
       "      <td>1.000000</td>\n",
       "      <td>0.711111</td>\n",
       "    </tr>\n",
       "    <tr>\n",
       "      <td>4</td>\n",
       "      <td>0.646800</td>\n",
       "      <td>0.615556</td>\n",
       "      <td>0.551724</td>\n",
       "      <td>0.551724</td>\n",
       "      <td>1.000000</td>\n",
       "      <td>0.711111</td>\n",
       "    </tr>\n",
       "    <tr>\n",
       "      <td>6</td>\n",
       "      <td>0.469000</td>\n",
       "      <td>0.525046</td>\n",
       "      <td>0.551724</td>\n",
       "      <td>0.551724</td>\n",
       "      <td>1.000000</td>\n",
       "      <td>0.711111</td>\n",
       "    </tr>\n",
       "    <tr>\n",
       "      <td>8</td>\n",
       "      <td>0.429300</td>\n",
       "      <td>0.399583</td>\n",
       "      <td>0.965517</td>\n",
       "      <td>0.941176</td>\n",
       "      <td>1.000000</td>\n",
       "      <td>0.969697</td>\n",
       "    </tr>\n",
       "    <tr>\n",
       "      <td>10</td>\n",
       "      <td>0.372400</td>\n",
       "      <td>0.332392</td>\n",
       "      <td>0.965517</td>\n",
       "      <td>0.941176</td>\n",
       "      <td>1.000000</td>\n",
       "      <td>0.969697</td>\n",
       "    </tr>\n",
       "    <tr>\n",
       "      <td>12</td>\n",
       "      <td>0.250200</td>\n",
       "      <td>0.299353</td>\n",
       "      <td>0.965517</td>\n",
       "      <td>0.941176</td>\n",
       "      <td>1.000000</td>\n",
       "      <td>0.969697</td>\n",
       "    </tr>\n",
       "  </tbody>\n",
       "</table><p>"
      ],
      "text/plain": [
       "<IPython.core.display.HTML object>"
      ]
     },
     "metadata": {},
     "output_type": "display_data"
    },
    {
     "name": "stderr",
     "output_type": "stream",
     "text": [
      "Could not locate the best model at bert_customer/bert_results\\checkpoint-8\\pytorch_model.bin, if you are running a distributed training on multiple nodes, you should activate `--save_on_each_node`.\n"
     ]
    }
   ],
   "source": [
    "#training model\n",
    "\n",
    "#output_dir=\"bert_imdb/bert_results\", takes up too much space on laptop\n",
    "def comp_scores(eval_pred):\n",
    "    logits, labels = eval_pred\n",
    "    preds = np.argmax(logits, axis=1)\n",
    "\n",
    "    accuracy = accuracy_score(labels, preds)\n",
    "    precision = precision_score(labels, preds)\n",
    "    recall = recall_score(labels, preds)\n",
    "    f1 = f1_score(labels, preds)\n",
    "\n",
    "    return {\n",
    "        \"accuracy\": accuracy,\n",
    "        \"precision\": precision,\n",
    "        \"recall\": recall,\n",
    "        \"f1\": f1\n",
    "    }\n",
    "\n",
    "training_args = TrainingArguments(\n",
    "    output_dir=\"bert_customer/bert_results\",\n",
    "    eval_strategy=\"steps\",\n",
    "    learning_rate=lr,\n",
    "    per_device_train_batch_size=batch_size,\n",
    "    per_device_eval_batch_size=batch_size,\n",
    "    num_train_epochs=num_epochs,\n",
    "    weight_decay=wd,\n",
    "    logging_dir=\"bert_customer/bert_logs\",\n",
    "    logging_steps=1,\n",
    "    save_steps=10,\n",
    "    #fp16=True,\n",
    "    save_total_limit=sv_limit,\n",
    "    metric_for_best_model=\"f1\",\n",
    "    load_best_model_at_end=True,\n",
    "    eval_steps=evs\n",
    ")\n",
    "\n",
    "trainer = Trainer(\n",
    "    model=model,\n",
    "    args=training_args,\n",
    "    train_dataset=trained_dataset,\n",
    "    eval_dataset=test_dataset,\n",
    "    compute_metrics=comp_scores,\n",
    "    callbacks=[EarlyStoppingCallback(early_stopping_patience=esp)]\n",
    ")\n",
    "\n",
    "try:\n",
    "    trainer.train()\n",
    "except Exception as e:\n",
    "    print(f\"Error with training model through Trainer: {e}\")"
   ]
  },
  {
   "cell_type": "code",
   "execution_count": 60,
   "metadata": {},
   "outputs": [],
   "source": [
    "#save model\n",
    "curr_date = datetime.now().strftime(\"%Y%m%d_%H%M_%f\")\n",
    "\n",
    "try:\n",
    "    model_path = f\"models/customer_model_{curr_date}\"\n",
    "    tokenizer_path = f\"tokenizers/customer_tokenizer_{curr_date}\"\n",
    "    model.save_pretrained(model_path)\n",
    "    tokenizer.save_pretrained(tokenizer_path)\n",
    "except Exception as e:\n",
    "    print(f\"Error with saving model and tokenizer: {e}\")"
   ]
  },
  {
   "cell_type": "code",
   "execution_count": 69,
   "metadata": {},
   "outputs": [
    {
     "name": "stdout",
     "output_type": "stream",
     "text": [
      "Beginning prediction\n"
     ]
    },
    {
     "data": {
      "text/html": [],
      "text/plain": [
       "<IPython.core.display.HTML object>"
      ]
     },
     "metadata": {},
     "output_type": "display_data"
    },
    {
     "name": "stdout",
     "output_type": "stream",
     "text": [
      "Ending prediction. Beginning evaluation\n",
      "Accuracy: 0.9655172413793104\n",
      "Precision: 0.9411764705882353\n",
      "Recall: 1.0\n",
      "F1: 0.9696969696969697\n",
      "Confusion matrix:\n",
      "[[12  1]\n",
      " [ 0 16]]\n",
      "Ending evaluation\n"
     ]
    }
   ],
   "source": [
    "#predictions\n",
    "model.to(device)\n",
    "model.eval()\n",
    "\n",
    "pred_list = []\n",
    "true_label = []\n",
    "\n",
    "\n",
    "\n",
    "\n",
    "count = 0\n",
    "print(\"Beginning prediction\")\n",
    "\n",
    "\n",
    "predictions = trainer.predict(test_dataset)\n",
    "\n",
    "pred_prob = predictions.predictions\n",
    "true_labels = predictions.label_ids\n",
    "pred_classes = np.argmax(pred_prob, axis=1)\n",
    "\n",
    "pred_list.extend(pred_classes)\n",
    "true_label.extend(true_labels)\n",
    "\n",
    "np_pred = np.array(pred_list)\n",
    "np_label = np.array(true_label)\n",
    "\n",
    "print(\"Ending prediction. Beginning evaluation\")\n",
    "\n",
    "if pred_list and true_label:\n",
    "     try:\n",
    "          \n",
    "\n",
    "          accuracy = accuracy_score(np_label, np_pred)\n",
    "          precision = precision_score(np_label, np_pred, zero_division=0)\n",
    "          recall = recall_score(np_label, np_pred, zero_division=0)\n",
    "          f1 = f1_score(np_label, np_pred, zero_division=0)\n",
    "     except Exception as e:\n",
    "          print(f\"Error with calculating scores: {e}\")\n",
    "     print(f\"Accuracy: {accuracy}\\nPrecision: {precision}\\nRecall: {recall}\\nF1: {f1}\")\n",
    "     cm = confusion_matrix(np_label, np_pred)\n",
    "     print(f\"Confusion matrix:\\n{cm}\")\n",
    "     print(\"Ending evaluation\")\n",
    "     #for i in range(10):\n",
    "          #print(f\"Predicted sentiment: {pred_list[i]}\")\n",
    "     \n",
    "else:\n",
    "     print(\"Skipping evaluation\")\n"
   ]
  }
 ],
 "metadata": {
  "kernelspec": {
   "display_name": "Python 3",
   "language": "python",
   "name": "python3"
  },
  "language_info": {
   "codemirror_mode": {
    "name": "ipython",
    "version": 3
   },
   "file_extension": ".py",
   "mimetype": "text/x-python",
   "name": "python",
   "nbconvert_exporter": "python",
   "pygments_lexer": "ipython3",
   "version": "3.11.2"
  }
 },
 "nbformat": 4,
 "nbformat_minor": 2
}
